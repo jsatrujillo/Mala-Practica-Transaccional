{
 "cells": [
  {
   "cell_type": "markdown",
   "id": "baa8da13",
   "metadata": {},
   "source": [
    "# Librerias"
   ]
  },
  {
   "cell_type": "code",
   "execution_count": 1,
   "id": "b714ec5e",
   "metadata": {},
   "outputs": [],
   "source": [
    "#import sys \n",
    "#!{sys.executable} -m pip install pyarrow"
   ]
  },
  {
   "cell_type": "code",
   "execution_count": 2,
   "id": "93397129",
   "metadata": {},
   "outputs": [],
   "source": [
    "import numpy as np\n",
    "import matplotlib.pyplot as plt\n",
    "import pandas as pd\n",
    "import pyarrow\n",
    "from datetime import date, time, datetime, timedelta\n",
    "\n",
    "pd.options.display.float_format = '{:.3f}'.format"
   ]
  },
  {
   "cell_type": "markdown",
   "id": "c506fcdf",
   "metadata": {},
   "source": [
    "# Datos"
   ]
  },
  {
   "cell_type": "markdown",
   "id": "a849548a",
   "metadata": {},
   "source": [
    "Se asume que los datos reales son el archivo que contiene en el nombre 0006 y el otro archivo los datos sinteticos."
   ]
  },
  {
   "cell_type": "code",
   "execution_count": 3,
   "id": "c52ae0f9",
   "metadata": {},
   "outputs": [],
   "source": [
    "datos_reales=pd.read_parquet('sample_data_0006_part_00.parquet', engine='pyarrow')\n",
    "datos_sinteticos=pd.read_parquet('sample_data_0007_part_00.parquet', engine='pyarrow')"
   ]
  },
  {
   "cell_type": "markdown",
   "id": "2b1e25c5",
   "metadata": {},
   "source": [
    "# Modificacion de datos"
   ]
  },
  {
   "cell_type": "markdown",
   "id": "19adbd80",
   "metadata": {},
   "source": [
    "Para la variable transaction_date se le quita la hora y transaction_amount se cambia el tipo de dato."
   ]
  },
  {
   "cell_type": "code",
   "execution_count": 4,
   "id": "993e971d",
   "metadata": {},
   "outputs": [],
   "source": [
    "datos_reales['transaction_amount'] = datos_reales['transaction_amount'].astype('float64')\n",
    "datos_sinteticos['transaction_amount'] = datos_sinteticos['transaction_amount'].astype('float64')\n",
    "\n",
    "datos_reales['fecha'] = pd.to_datetime(datos_reales['transaction_date']).dt.date\n",
    "datos_sinteticos['fecha'] = pd.to_datetime(datos_sinteticos['transaction_date']).dt.date\n",
    "\n",
    "datos_reales['fecha'] = pd.to_datetime(datos_reales['fecha'], format='%Y/%m/%d')\n",
    "datos_sinteticos['fecha'] = pd.to_datetime(datos_sinteticos['fecha'], format='%Y/%m/%d')"
   ]
  },
  {
   "cell_type": "code",
   "execution_count": 5,
   "id": "992bf281",
   "metadata": {},
   "outputs": [
    {
     "data": {
      "text/html": [
       "<div>\n",
       "<style scoped>\n",
       "    .dataframe tbody tr th:only-of-type {\n",
       "        vertical-align: middle;\n",
       "    }\n",
       "\n",
       "    .dataframe tbody tr th {\n",
       "        vertical-align: top;\n",
       "    }\n",
       "\n",
       "    .dataframe thead th {\n",
       "        text-align: right;\n",
       "    }\n",
       "</style>\n",
       "<table border=\"1\" class=\"dataframe\">\n",
       "  <thead>\n",
       "    <tr style=\"text-align: right;\">\n",
       "      <th></th>\n",
       "      <th>merchant_id</th>\n",
       "      <th>_id</th>\n",
       "      <th>subsidiary</th>\n",
       "      <th>transaction_date</th>\n",
       "      <th>account_number</th>\n",
       "      <th>user_id</th>\n",
       "      <th>transaction_amount</th>\n",
       "      <th>transaction_type</th>\n",
       "      <th>fecha</th>\n",
       "    </tr>\n",
       "  </thead>\n",
       "  <tbody>\n",
       "    <tr>\n",
       "      <th>0</th>\n",
       "      <td>075d178871d8d48502bf1f54887e52fe</td>\n",
       "      <td>aa8dacff663072244d0a8ab6bbe36b93</td>\n",
       "      <td>824b2af470cbe6a65b15650e03b740fc</td>\n",
       "      <td>2021-09-12 18:32:03</td>\n",
       "      <td>648e257c9d74909a1f61c54b93a9e1b3</td>\n",
       "      <td>ba42d192a145583ba8e7bf04875f837f</td>\n",
       "      <td>178.334</td>\n",
       "      <td>CREDITO</td>\n",
       "      <td>2021-09-12</td>\n",
       "    </tr>\n",
       "    <tr>\n",
       "      <th>1</th>\n",
       "      <td>075d178871d8d48502bf1f54887e52fe</td>\n",
       "      <td>a53bb81bd0bba2ae2535bda7ea5a550c</td>\n",
       "      <td>2d8d34be7509a6b1262336d036fdb324</td>\n",
       "      <td>2021-09-12 18:31:58</td>\n",
       "      <td>c0b62f9046c83ea5543ea46a497a4d6e</td>\n",
       "      <td>5cfff960ea6d732c1ba3e63d24f3be52</td>\n",
       "      <td>35.667</td>\n",
       "      <td>CREDITO</td>\n",
       "      <td>2021-09-12</td>\n",
       "    </tr>\n",
       "    <tr>\n",
       "      <th>2</th>\n",
       "      <td>075d178871d8d48502bf1f54887e52fe</td>\n",
       "      <td>79f893ea65c06fe2933f3847c88c272f</td>\n",
       "      <td>5eeb18254850b21af0a6bb2697913cd3</td>\n",
       "      <td>2021-09-12 18:31:56</td>\n",
       "      <td>872d10143fc0ac7d5de467806f6bef81</td>\n",
       "      <td>c97e63a92c82c7217b333635d75928ed</td>\n",
       "      <td>142.667</td>\n",
       "      <td>CREDITO</td>\n",
       "      <td>2021-09-12</td>\n",
       "    </tr>\n",
       "    <tr>\n",
       "      <th>3</th>\n",
       "      <td>075d178871d8d48502bf1f54887e52fe</td>\n",
       "      <td>ce577223699dbdc119df2ab8a35457fe</td>\n",
       "      <td>5221a599856c0a0588ed9ffd150edd3b</td>\n",
       "      <td>2021-09-12 18:31:10</td>\n",
       "      <td>2e35cfe7860a480a93e1c83e99843579</td>\n",
       "      <td>fc09bdd00f283222d65eaff4d00a6594</td>\n",
       "      <td>8.322</td>\n",
       "      <td>CREDITO</td>\n",
       "      <td>2021-09-12</td>\n",
       "    </tr>\n",
       "    <tr>\n",
       "      <th>4</th>\n",
       "      <td>075d178871d8d48502bf1f54887e52fe</td>\n",
       "      <td>0ce7ab2950e7a788a608f881aec0f8f0</td>\n",
       "      <td>971e55ef12d80ec070ea4f6750c8b892</td>\n",
       "      <td>2021-09-12 18:31:07</td>\n",
       "      <td>995bc89e4c4e00334f1f90c4a55f4729</td>\n",
       "      <td>213527e8ba94fcaf2f9378969f9f6abc</td>\n",
       "      <td>32.100</td>\n",
       "      <td>CREDITO</td>\n",
       "      <td>2021-09-12</td>\n",
       "    </tr>\n",
       "  </tbody>\n",
       "</table>\n",
       "</div>"
      ],
      "text/plain": [
       "                        merchant_id                               _id  \\\n",
       "0  075d178871d8d48502bf1f54887e52fe  aa8dacff663072244d0a8ab6bbe36b93   \n",
       "1  075d178871d8d48502bf1f54887e52fe  a53bb81bd0bba2ae2535bda7ea5a550c   \n",
       "2  075d178871d8d48502bf1f54887e52fe  79f893ea65c06fe2933f3847c88c272f   \n",
       "3  075d178871d8d48502bf1f54887e52fe  ce577223699dbdc119df2ab8a35457fe   \n",
       "4  075d178871d8d48502bf1f54887e52fe  0ce7ab2950e7a788a608f881aec0f8f0   \n",
       "\n",
       "                         subsidiary    transaction_date  \\\n",
       "0  824b2af470cbe6a65b15650e03b740fc 2021-09-12 18:32:03   \n",
       "1  2d8d34be7509a6b1262336d036fdb324 2021-09-12 18:31:58   \n",
       "2  5eeb18254850b21af0a6bb2697913cd3 2021-09-12 18:31:56   \n",
       "3  5221a599856c0a0588ed9ffd150edd3b 2021-09-12 18:31:10   \n",
       "4  971e55ef12d80ec070ea4f6750c8b892 2021-09-12 18:31:07   \n",
       "\n",
       "                     account_number                           user_id  \\\n",
       "0  648e257c9d74909a1f61c54b93a9e1b3  ba42d192a145583ba8e7bf04875f837f   \n",
       "1  c0b62f9046c83ea5543ea46a497a4d6e  5cfff960ea6d732c1ba3e63d24f3be52   \n",
       "2  872d10143fc0ac7d5de467806f6bef81  c97e63a92c82c7217b333635d75928ed   \n",
       "3  2e35cfe7860a480a93e1c83e99843579  fc09bdd00f283222d65eaff4d00a6594   \n",
       "4  995bc89e4c4e00334f1f90c4a55f4729  213527e8ba94fcaf2f9378969f9f6abc   \n",
       "\n",
       "   transaction_amount transaction_type      fecha  \n",
       "0             178.334          CREDITO 2021-09-12  \n",
       "1              35.667          CREDITO 2021-09-12  \n",
       "2             142.667          CREDITO 2021-09-12  \n",
       "3               8.322          CREDITO 2021-09-12  \n",
       "4              32.100          CREDITO 2021-09-12  "
      ]
     },
     "execution_count": 5,
     "metadata": {},
     "output_type": "execute_result"
    }
   ],
   "source": [
    "datos_reales.head()"
   ]
  },
  {
   "cell_type": "markdown",
   "id": "d00e14d3",
   "metadata": {},
   "source": [
    "# Analisis de los datos"
   ]
  },
  {
   "cell_type": "code",
   "execution_count": 6,
   "id": "227a9b1f",
   "metadata": {},
   "outputs": [
    {
     "name": "stdout",
     "output_type": "stream",
     "text": [
      "Cantidad de Trx: 10758418\n",
      "Cantidad de Cuentas: 1954040\n",
      "Cantidad de Clientes: 1948844\n",
      "Fecha mas Antigua: 2021-01-01 00:00:00\n",
      "Fecha mas Reciente: 2021-11-30 00:00:00\n",
      "Cantidad de Trx Debito (Salidas): 8591289\n",
      "Valor de Trx Debito (Salidas): 1,760,152,656.13\n",
      "Cantidad de Trx Credito (Entradas): 2167129\n",
      "Valor de Trx Credito (Entradas): 298,980,570.81\n"
     ]
    }
   ],
   "source": [
    "print(\"Cantidad de Trx:\",datos_reales.shape[0])\n",
    "print(\"Cantidad de Cuentas:\",len(datos_reales['account_number'].unique()))\n",
    "print(\"Cantidad de Clientes:\",len(datos_reales['user_id'].unique()))\n",
    "print(\"Fecha mas Antigua:\",datos_reales['fecha'].min())\n",
    "print(\"Fecha mas Reciente:\",datos_reales['fecha'].max())\n",
    "print(\"Cantidad de Trx Debito (Salidas):\",datos_reales[\"transaction_type\"].value_counts()[0])\n",
    "print(\"Valor de Trx Debito (Salidas): {:,.2f}\".format(datos_reales.groupby('transaction_type').agg({'transaction_amount':'sum'}).reset_index().loc[1,'transaction_amount']))\n",
    "print(\"Cantidad de Trx Credito (Entradas):\",datos_reales[\"transaction_type\"].value_counts()[1])\n",
    "print(\"Valor de Trx Credito (Entradas): {:,.2f}\".format(datos_reales.groupby('transaction_type').agg({'transaction_amount':'sum'}).reset_index().loc[0,'transaction_amount']))"
   ]
  },
  {
   "cell_type": "markdown",
   "id": "7bf7c3bc",
   "metadata": {},
   "source": [
    "La informacion se encuentra en una ventana de tiempo de 11 meses, iniciando en enero del año 2021 hasta noviembre del mismo año, en donde se presentan casi 11 millones de Trx, se utilizaron cerca de 2 millones de cuentas, con montos totales de entradas de dinero de 298 mil millones y salidas de 1,7 billones."
   ]
  },
  {
   "cell_type": "markdown",
   "id": "bf0b06dc",
   "metadata": {},
   "source": [
    "# Caso de analisis"
   ]
  },
  {
   "cell_type": "markdown",
   "id": "4eb65fb2",
   "metadata": {},
   "source": [
    "Se busca identificar transacciones con mala practica, en este caso transacciones que se fraccionan y en vez de realizar una sola transaccion, se realizan varias con menor valor.\n",
    "\n",
    "Para lograr descubrir dichas transacciones, se realizaran los siguientes pasos en la base de datos reales:\n",
    "\n",
    "1. Revisar la distribucion de la cantidad de transacciones que se realizan en las cuentas cada dia, discriminando por el tipo de transaccion"
   ]
  },
  {
   "cell_type": "code",
   "execution_count": 7,
   "id": "e4d23c4f",
   "metadata": {},
   "outputs": [],
   "source": [
    "base=datos_reales.groupby([\"account_number\",\"transaction_type\",\"fecha\"]).agg(\n",
    "    {'_id':'count','transaction_amount':'sum'}).reset_index()\n",
    "base = base.rename(columns={'_id':'Cantidad','transaction_amount':'Valor'})\n",
    "base_credito=base[base['transaction_type']=='CREDITO']\n",
    "base_debito=base[base['transaction_type']=='DEBITO']\n",
    "del base"
   ]
  },
  {
   "cell_type": "code",
   "execution_count": 8,
   "id": "cffa80b3",
   "metadata": {},
   "outputs": [
    {
     "data": {
      "text/html": [
       "<div>\n",
       "<style scoped>\n",
       "    .dataframe tbody tr th:only-of-type {\n",
       "        vertical-align: middle;\n",
       "    }\n",
       "\n",
       "    .dataframe tbody tr th {\n",
       "        vertical-align: top;\n",
       "    }\n",
       "\n",
       "    .dataframe thead th {\n",
       "        text-align: right;\n",
       "    }\n",
       "</style>\n",
       "<table border=\"1\" class=\"dataframe\">\n",
       "  <thead>\n",
       "    <tr style=\"text-align: right;\">\n",
       "      <th></th>\n",
       "      <th>account_number</th>\n",
       "      <th>transaction_type</th>\n",
       "      <th>fecha</th>\n",
       "      <th>Cantidad</th>\n",
       "      <th>Valor</th>\n",
       "    </tr>\n",
       "  </thead>\n",
       "  <tbody>\n",
       "    <tr>\n",
       "      <th>1</th>\n",
       "      <td>000011b29a455d40b5aea0cfca1aa7f6</td>\n",
       "      <td>CREDITO</td>\n",
       "      <td>2021-05-26</td>\n",
       "      <td>1</td>\n",
       "      <td>107.000</td>\n",
       "    </tr>\n",
       "    <tr>\n",
       "      <th>2</th>\n",
       "      <td>000011b29a455d40b5aea0cfca1aa7f6</td>\n",
       "      <td>CREDITO</td>\n",
       "      <td>2021-05-28</td>\n",
       "      <td>1</td>\n",
       "      <td>178.334</td>\n",
       "    </tr>\n",
       "    <tr>\n",
       "      <th>3</th>\n",
       "      <td>000011b29a455d40b5aea0cfca1aa7f6</td>\n",
       "      <td>CREDITO</td>\n",
       "      <td>2021-06-02</td>\n",
       "      <td>1</td>\n",
       "      <td>118.889</td>\n",
       "    </tr>\n",
       "    <tr>\n",
       "      <th>4</th>\n",
       "      <td>000011b29a455d40b5aea0cfca1aa7f6</td>\n",
       "      <td>CREDITO</td>\n",
       "      <td>2021-07-12</td>\n",
       "      <td>1</td>\n",
       "      <td>59.445</td>\n",
       "    </tr>\n",
       "    <tr>\n",
       "      <th>8</th>\n",
       "      <td>00001500d5a76e12b28c233bf1f8718b</td>\n",
       "      <td>CREDITO</td>\n",
       "      <td>2021-04-05</td>\n",
       "      <td>1</td>\n",
       "      <td>35.667</td>\n",
       "    </tr>\n",
       "    <tr>\n",
       "      <th>...</th>\n",
       "      <td>...</td>\n",
       "      <td>...</td>\n",
       "      <td>...</td>\n",
       "      <td>...</td>\n",
       "      <td>...</td>\n",
       "    </tr>\n",
       "    <tr>\n",
       "      <th>9293062</th>\n",
       "      <td>ffffc060f85f109fe176e91b6483a066</td>\n",
       "      <td>CREDITO</td>\n",
       "      <td>2021-04-05</td>\n",
       "      <td>1</td>\n",
       "      <td>237.778</td>\n",
       "    </tr>\n",
       "    <tr>\n",
       "      <th>9293076</th>\n",
       "      <td>ffffc3558b92b39e785c1d91546a59a6</td>\n",
       "      <td>CREDITO</td>\n",
       "      <td>2021-09-28</td>\n",
       "      <td>1</td>\n",
       "      <td>95.111</td>\n",
       "    </tr>\n",
       "    <tr>\n",
       "      <th>9293081</th>\n",
       "      <td>ffffee41fbc3a77296e0b8d1cf56b3b0</td>\n",
       "      <td>CREDITO</td>\n",
       "      <td>2021-10-27</td>\n",
       "      <td>1</td>\n",
       "      <td>59.445</td>\n",
       "    </tr>\n",
       "    <tr>\n",
       "      <th>9293082</th>\n",
       "      <td>ffffee41fbc3a77296e0b8d1cf56b3b0</td>\n",
       "      <td>CREDITO</td>\n",
       "      <td>2021-11-07</td>\n",
       "      <td>1</td>\n",
       "      <td>332.889</td>\n",
       "    </tr>\n",
       "    <tr>\n",
       "      <th>9293085</th>\n",
       "      <td>fffff6c90a7612cd6efd645f8b5b74d1</td>\n",
       "      <td>CREDITO</td>\n",
       "      <td>2021-01-12</td>\n",
       "      <td>2</td>\n",
       "      <td>693.123</td>\n",
       "    </tr>\n",
       "  </tbody>\n",
       "</table>\n",
       "<p>1782916 rows × 5 columns</p>\n",
       "</div>"
      ],
      "text/plain": [
       "                           account_number transaction_type      fecha  \\\n",
       "1        000011b29a455d40b5aea0cfca1aa7f6          CREDITO 2021-05-26   \n",
       "2        000011b29a455d40b5aea0cfca1aa7f6          CREDITO 2021-05-28   \n",
       "3        000011b29a455d40b5aea0cfca1aa7f6          CREDITO 2021-06-02   \n",
       "4        000011b29a455d40b5aea0cfca1aa7f6          CREDITO 2021-07-12   \n",
       "8        00001500d5a76e12b28c233bf1f8718b          CREDITO 2021-04-05   \n",
       "...                                   ...              ...        ...   \n",
       "9293062  ffffc060f85f109fe176e91b6483a066          CREDITO 2021-04-05   \n",
       "9293076  ffffc3558b92b39e785c1d91546a59a6          CREDITO 2021-09-28   \n",
       "9293081  ffffee41fbc3a77296e0b8d1cf56b3b0          CREDITO 2021-10-27   \n",
       "9293082  ffffee41fbc3a77296e0b8d1cf56b3b0          CREDITO 2021-11-07   \n",
       "9293085  fffff6c90a7612cd6efd645f8b5b74d1          CREDITO 2021-01-12   \n",
       "\n",
       "         Cantidad   Valor  \n",
       "1               1 107.000  \n",
       "2               1 178.334  \n",
       "3               1 118.889  \n",
       "4               1  59.445  \n",
       "8               1  35.667  \n",
       "...           ...     ...  \n",
       "9293062         1 237.778  \n",
       "9293076         1  95.111  \n",
       "9293081         1  59.445  \n",
       "9293082         1 332.889  \n",
       "9293085         2 693.123  \n",
       "\n",
       "[1782916 rows x 5 columns]"
      ]
     },
     "execution_count": 8,
     "metadata": {},
     "output_type": "execute_result"
    }
   ],
   "source": [
    "base_credito"
   ]
  },
  {
   "cell_type": "code",
   "execution_count": 9,
   "id": "fcf2edae",
   "metadata": {},
   "outputs": [
    {
     "data": {
      "text/plain": [
       "Text(0.5, 1.0, 'Cant Trx por Cuenta y Dia (Debito)')"
      ]
     },
     "execution_count": 9,
     "metadata": {},
     "output_type": "execute_result"
    },
    {
     "data": {
      "image/png": "[encoded data removed]",
      "text/plain": [
       "<Figure size 1152x720 with 2 Axes>"
      ]
     },
     "metadata": {
      "needs_background": "light"
     },
     "output_type": "display_data"
    }
   ],
   "source": [
    "plt.figure(figsize=(16,10))\n",
    "\n",
    "plt.subplot(1,2,1)\n",
    "boxplot = base_credito.boxplot(column=['Cantidad'])\n",
    "plt.title(\"Cant Trx por Cuenta y Dia (Credito)\")\n",
    "plt.subplot(1,2,2)\n",
    "boxplot = base_debito.boxplot(column=['Cantidad'])\n",
    "plt.title(\"Cant Trx por Cuenta y Dia (Debito)\")\n",
    "\n",
    "#plt.boxplot(base_credito['n'])\n",
    "#plt.title(\"Cant Trx por Cuenta y Dia\")\n",
    "#plt.show()"
   ]
  },
  {
   "cell_type": "markdown",
   "id": "ecd45241",
   "metadata": {},
   "source": [
    "La mayor cantidad de transacciones se ubica en valores pequeños cercanos a uno, para ambos tipos de transacciones"
   ]
  },
  {
   "cell_type": "code",
   "execution_count": 10,
   "id": "01ab992e",
   "metadata": {},
   "outputs": [
    {
     "name": "stdout",
     "output_type": "stream",
     "text": [
      "Quantiles\n",
      "--------------------------\n",
      "Tipo de Transaccion Debito\n",
      "0.900   1.000\n",
      "0.950   2.000\n",
      "0.990   3.000\n",
      "0.995   4.000\n",
      "0.999   5.000\n",
      "Name: Cantidad, dtype: float64\n",
      "--------------------------\n",
      "Tipo de Transaccion Credito\n",
      "0.900    1.000\n",
      "0.950    2.000\n",
      "0.990    4.000\n",
      "0.995    4.000\n",
      "0.999   39.000\n",
      "Name: Cantidad, dtype: float64\n"
     ]
    }
   ],
   "source": [
    "print('Quantiles')\n",
    "print('--------------------------')\n",
    "print('Tipo de Transaccion Debito')\n",
    "print(base_debito[\"Cantidad\"].quantile([.9,.95,.99,.995,.999]))\n",
    "print('--------------------------')\n",
    "print('Tipo de Transaccion Credito')\n",
    "print(base_credito[\"Cantidad\"].quantile([.9,.95,.99,.995,.999]))"
   ]
  },
  {
   "cell_type": "markdown",
   "id": "d964a9a9",
   "metadata": {},
   "source": [
    "El 0,1% del total de cuentas en los movimiento de tipo Debito realizaron 5 transacciones o mas en un mismo dia, para el caso de cuentas en los movimiento de tipo Credito el 0,1% realizaron 39 transacciones o mas."
   ]
  },
  {
   "cell_type": "code",
   "execution_count": 11,
   "id": "bb14abfd",
   "metadata": {},
   "outputs": [],
   "source": [
    "base_credito=base_credito[base_credito['Cantidad']>=39]\n",
    "base_debito=base_debito[base_debito['Cantidad']>=5]"
   ]
  },
  {
   "cell_type": "code",
   "execution_count": 12,
   "id": "3172d856",
   "metadata": {},
   "outputs": [
    {
     "name": "stdout",
     "output_type": "stream",
     "text": [
      "Cuentas >= 5 Trx Debito en un dia: 8387\n",
      "Cuentas >= 39 Trx Credito en un dia: 1115\n"
     ]
    }
   ],
   "source": [
    "print(\"Cuentas >= 5 Trx Debito en un dia:\",len(base_debito['account_number'].unique()))\n",
    "print(\"Cuentas >= 39 Trx Credito en un dia:\",len(base_credito['account_number'].unique()))"
   ]
  },
  {
   "cell_type": "markdown",
   "id": "efacacd7",
   "metadata": {},
   "source": [
    "Con los valores de corte definidos procedemos a observar cual seria el numero de cuentas a revisar."
   ]
  },
  {
   "cell_type": "code",
   "execution_count": 13,
   "id": "2800d1bb",
   "metadata": {},
   "outputs": [
    {
     "data": {
      "text/plain": [
       "Text(0.5, 1.0, 'Cantidad de cuentas para revisar (Debito)')"
      ]
     },
     "execution_count": 13,
     "metadata": {},
     "output_type": "execute_result"
    },
    {
     "data": {
      "image/png": "[encoded data removed]",
      "text/plain": [
       "<Figure size 1152x720 with 2 Axes>"
      ]
     },
     "metadata": {
      "needs_background": "light"
     },
     "output_type": "display_data"
    }
   ],
   "source": [
    "plt.figure(figsize=(16,10))\n",
    "\n",
    "plt.subplot(1,2,1)\n",
    "boxplot = base_credito.groupby('fecha')['account_number'].count().reset_index().boxplot(column=['account_number'])\n",
    "plt.title(\"Cantidad de cuentas para revisar (Credito)\")\n",
    "plt.subplot(1,2,2)\n",
    "boxplot = base_debito.groupby('fecha')['account_number'].count().reset_index().boxplot(column=['account_number'])\n",
    "plt.title(\"Cantidad de cuentas para revisar (Debito)\")"
   ]
  },
  {
   "cell_type": "code",
   "execution_count": 14,
   "id": "7487ce09",
   "metadata": {},
   "outputs": [
    {
     "name": "stdout",
     "output_type": "stream",
     "text": [
      "Cuentas a Revisar por Dia (Credito)\n",
      "Minimo: 2\n",
      "Media: 37.2\n",
      "Maximo: 88\n",
      "-----------------------------------\n",
      "Cuentas a Revisar por Dia (Debito)\n",
      "Minimo: 1\n",
      "Media: 41.1\n",
      "Maximo: 303\n"
     ]
    }
   ],
   "source": [
    "print('Cuentas a Revisar por Dia (Credito)')\n",
    "print('Minimo:',base_credito.groupby('fecha')['account_number'].count().reset_index()['account_number'].min())\n",
    "print('Media:',round(base_credito.groupby('fecha')['account_number'].count().reset_index()['account_number'].mean(),1))\n",
    "print('Maximo:',base_credito.groupby('fecha')['account_number'].count().reset_index()['account_number'].max())\n",
    "print('-----------------------------------')\n",
    "print('Cuentas a Revisar por Dia (Debito)')\n",
    "print('Minimo:',base_debito.groupby('fecha')['account_number'].count().reset_index()['account_number'].min())\n",
    "print('Media:',round(base_debito.groupby('fecha')['account_number'].count().reset_index()['account_number'].mean(),1))\n",
    "print('Maximo:',base_debito.groupby('fecha')['account_number'].count().reset_index()['account_number'].max())"
   ]
  },
  {
   "cell_type": "markdown",
   "id": "11e9c19e",
   "metadata": {},
   "source": [
    "En promedio se deberian revisar 37 cuentas de transacciones debito y 41 cuentas de transacciones debito, sin embargo los maximo valores son de 88 y 303 respectivamente, por lo cual, se tendria dias donde la carga operativa seria bastante alta, por ende se revisara si todos los valores totales deberian ser revisados."
   ]
  },
  {
   "cell_type": "code",
   "execution_count": 15,
   "id": "f099aa9e",
   "metadata": {},
   "outputs": [
    {
     "data": {
      "text/html": [
       "<div>\n",
       "<style scoped>\n",
       "    .dataframe tbody tr th:only-of-type {\n",
       "        vertical-align: middle;\n",
       "    }\n",
       "\n",
       "    .dataframe tbody tr th {\n",
       "        vertical-align: top;\n",
       "    }\n",
       "\n",
       "    .dataframe thead th {\n",
       "        text-align: right;\n",
       "    }\n",
       "</style>\n",
       "<table border=\"1\" class=\"dataframe\">\n",
       "  <thead>\n",
       "    <tr style=\"text-align: right;\">\n",
       "      <th></th>\n",
       "      <th>merchant_id</th>\n",
       "      <th>_id</th>\n",
       "      <th>subsidiary</th>\n",
       "      <th>transaction_date</th>\n",
       "      <th>account_number</th>\n",
       "      <th>user_id</th>\n",
       "      <th>transaction_amount</th>\n",
       "      <th>transaction_type</th>\n",
       "      <th>fecha</th>\n",
       "    </tr>\n",
       "  </thead>\n",
       "  <tbody>\n",
       "    <tr>\n",
       "      <th>9812494</th>\n",
       "      <td>838a8fa992a4aa2fb5a0cf8b15b63755</td>\n",
       "      <td>9b04baa2ce92402f12dc5bd9da00bbb7</td>\n",
       "      <td>f54e0b6b32831a6307361ed959903e76</td>\n",
       "      <td>2021-02-09 14:21:08</td>\n",
       "      <td>22ae1905e262fc5b1a5776b91de24f7c</td>\n",
       "      <td>78a39cf3c10ccf6dd6175208a79f8b98</td>\n",
       "      <td>5.946</td>\n",
       "      <td>DEBITO</td>\n",
       "      <td>2021-02-09</td>\n",
       "    </tr>\n",
       "    <tr>\n",
       "      <th>9812495</th>\n",
       "      <td>838a8fa992a4aa2fb5a0cf8b15b63755</td>\n",
       "      <td>1b68afd2f8c56674777e8770e0a48c21</td>\n",
       "      <td>f54e0b6b32831a6307361ed959903e76</td>\n",
       "      <td>2021-02-09 17:13:56</td>\n",
       "      <td>22ae1905e262fc5b1a5776b91de24f7c</td>\n",
       "      <td>78a39cf3c10ccf6dd6175208a79f8b98</td>\n",
       "      <td>5.946</td>\n",
       "      <td>DEBITO</td>\n",
       "      <td>2021-02-09</td>\n",
       "    </tr>\n",
       "    <tr>\n",
       "      <th>9812496</th>\n",
       "      <td>838a8fa992a4aa2fb5a0cf8b15b63755</td>\n",
       "      <td>3873adb0a64e139b925120fcaa482a61</td>\n",
       "      <td>f54e0b6b32831a6307361ed959903e76</td>\n",
       "      <td>2021-02-09 15:09:14</td>\n",
       "      <td>22ae1905e262fc5b1a5776b91de24f7c</td>\n",
       "      <td>78a39cf3c10ccf6dd6175208a79f8b98</td>\n",
       "      <td>5.944</td>\n",
       "      <td>DEBITO</td>\n",
       "      <td>2021-02-09</td>\n",
       "    </tr>\n",
       "    <tr>\n",
       "      <th>9812497</th>\n",
       "      <td>838a8fa992a4aa2fb5a0cf8b15b63755</td>\n",
       "      <td>1c2795fa3f1bd02f12249c9eebc9079e</td>\n",
       "      <td>f54e0b6b32831a6307361ed959903e76</td>\n",
       "      <td>2021-02-09 14:26:07</td>\n",
       "      <td>22ae1905e262fc5b1a5776b91de24f7c</td>\n",
       "      <td>78a39cf3c10ccf6dd6175208a79f8b98</td>\n",
       "      <td>5.944</td>\n",
       "      <td>DEBITO</td>\n",
       "      <td>2021-02-09</td>\n",
       "    </tr>\n",
       "    <tr>\n",
       "      <th>9812498</th>\n",
       "      <td>838a8fa992a4aa2fb5a0cf8b15b63755</td>\n",
       "      <td>7c51d41f12e6866d19bf8b9ec9509993</td>\n",
       "      <td>f54e0b6b32831a6307361ed959903e76</td>\n",
       "      <td>2021-02-09 17:29:52</td>\n",
       "      <td>22ae1905e262fc5b1a5776b91de24f7c</td>\n",
       "      <td>78a39cf3c10ccf6dd6175208a79f8b98</td>\n",
       "      <td>5.946</td>\n",
       "      <td>DEBITO</td>\n",
       "      <td>2021-02-09</td>\n",
       "    </tr>\n",
       "    <tr>\n",
       "      <th>...</th>\n",
       "      <td>...</td>\n",
       "      <td>...</td>\n",
       "      <td>...</td>\n",
       "      <td>...</td>\n",
       "      <td>...</td>\n",
       "      <td>...</td>\n",
       "      <td>...</td>\n",
       "      <td>...</td>\n",
       "      <td>...</td>\n",
       "    </tr>\n",
       "    <tr>\n",
       "      <th>9812589</th>\n",
       "      <td>838a8fa992a4aa2fb5a0cf8b15b63755</td>\n",
       "      <td>0713747f4dce6b31d4dfd35fe90b896d</td>\n",
       "      <td>f54e0b6b32831a6307361ed959903e76</td>\n",
       "      <td>2021-02-09 17:00:06</td>\n",
       "      <td>22ae1905e262fc5b1a5776b91de24f7c</td>\n",
       "      <td>78a39cf3c10ccf6dd6175208a79f8b98</td>\n",
       "      <td>5.946</td>\n",
       "      <td>DEBITO</td>\n",
       "      <td>2021-02-09</td>\n",
       "    </tr>\n",
       "    <tr>\n",
       "      <th>9812590</th>\n",
       "      <td>838a8fa992a4aa2fb5a0cf8b15b63755</td>\n",
       "      <td>af5001453c633b83c6513ab11269f7fb</td>\n",
       "      <td>f54e0b6b32831a6307361ed959903e76</td>\n",
       "      <td>2021-02-09 13:08:42</td>\n",
       "      <td>22ae1905e262fc5b1a5776b91de24f7c</td>\n",
       "      <td>78a39cf3c10ccf6dd6175208a79f8b98</td>\n",
       "      <td>5.946</td>\n",
       "      <td>DEBITO</td>\n",
       "      <td>2021-02-09</td>\n",
       "    </tr>\n",
       "    <tr>\n",
       "      <th>9812591</th>\n",
       "      <td>838a8fa992a4aa2fb5a0cf8b15b63755</td>\n",
       "      <td>a3c89ca4f64b0d7c5d222893dd4e2084</td>\n",
       "      <td>f54e0b6b32831a6307361ed959903e76</td>\n",
       "      <td>2021-02-09 14:07:09</td>\n",
       "      <td>22ae1905e262fc5b1a5776b91de24f7c</td>\n",
       "      <td>78a39cf3c10ccf6dd6175208a79f8b98</td>\n",
       "      <td>5.944</td>\n",
       "      <td>DEBITO</td>\n",
       "      <td>2021-02-09</td>\n",
       "    </tr>\n",
       "    <tr>\n",
       "      <th>9812592</th>\n",
       "      <td>838a8fa992a4aa2fb5a0cf8b15b63755</td>\n",
       "      <td>85ebb8b86fe1a94982879a5f69dae83f</td>\n",
       "      <td>f54e0b6b32831a6307361ed959903e76</td>\n",
       "      <td>2021-02-09 14:14:53</td>\n",
       "      <td>22ae1905e262fc5b1a5776b91de24f7c</td>\n",
       "      <td>78a39cf3c10ccf6dd6175208a79f8b98</td>\n",
       "      <td>5.944</td>\n",
       "      <td>DEBITO</td>\n",
       "      <td>2021-02-09</td>\n",
       "    </tr>\n",
       "    <tr>\n",
       "      <th>9812593</th>\n",
       "      <td>838a8fa992a4aa2fb5a0cf8b15b63755</td>\n",
       "      <td>0ff65baae441518ebb581e6bf9810f9b</td>\n",
       "      <td>f54e0b6b32831a6307361ed959903e76</td>\n",
       "      <td>2021-02-09 17:18:39</td>\n",
       "      <td>22ae1905e262fc5b1a5776b91de24f7c</td>\n",
       "      <td>78a39cf3c10ccf6dd6175208a79f8b98</td>\n",
       "      <td>5.946</td>\n",
       "      <td>DEBITO</td>\n",
       "      <td>2021-02-09</td>\n",
       "    </tr>\n",
       "  </tbody>\n",
       "</table>\n",
       "<p>100 rows × 9 columns</p>\n",
       "</div>"
      ],
      "text/plain": [
       "                              merchant_id                               _id  \\\n",
       "9812494  838a8fa992a4aa2fb5a0cf8b15b63755  9b04baa2ce92402f12dc5bd9da00bbb7   \n",
       "9812495  838a8fa992a4aa2fb5a0cf8b15b63755  1b68afd2f8c56674777e8770e0a48c21   \n",
       "9812496  838a8fa992a4aa2fb5a0cf8b15b63755  3873adb0a64e139b925120fcaa482a61   \n",
       "9812497  838a8fa992a4aa2fb5a0cf8b15b63755  1c2795fa3f1bd02f12249c9eebc9079e   \n",
       "9812498  838a8fa992a4aa2fb5a0cf8b15b63755  7c51d41f12e6866d19bf8b9ec9509993   \n",
       "...                                   ...                               ...   \n",
       "9812589  838a8fa992a4aa2fb5a0cf8b15b63755  0713747f4dce6b31d4dfd35fe90b896d   \n",
       "9812590  838a8fa992a4aa2fb5a0cf8b15b63755  af5001453c633b83c6513ab11269f7fb   \n",
       "9812591  838a8fa992a4aa2fb5a0cf8b15b63755  a3c89ca4f64b0d7c5d222893dd4e2084   \n",
       "9812592  838a8fa992a4aa2fb5a0cf8b15b63755  85ebb8b86fe1a94982879a5f69dae83f   \n",
       "9812593  838a8fa992a4aa2fb5a0cf8b15b63755  0ff65baae441518ebb581e6bf9810f9b   \n",
       "\n",
       "                               subsidiary    transaction_date  \\\n",
       "9812494  f54e0b6b32831a6307361ed959903e76 2021-02-09 14:21:08   \n",
       "9812495  f54e0b6b32831a6307361ed959903e76 2021-02-09 17:13:56   \n",
       "9812496  f54e0b6b32831a6307361ed959903e76 2021-02-09 15:09:14   \n",
       "9812497  f54e0b6b32831a6307361ed959903e76 2021-02-09 14:26:07   \n",
       "9812498  f54e0b6b32831a6307361ed959903e76 2021-02-09 17:29:52   \n",
       "...                                   ...                 ...   \n",
       "9812589  f54e0b6b32831a6307361ed959903e76 2021-02-09 17:00:06   \n",
       "9812590  f54e0b6b32831a6307361ed959903e76 2021-02-09 13:08:42   \n",
       "9812591  f54e0b6b32831a6307361ed959903e76 2021-02-09 14:07:09   \n",
       "9812592  f54e0b6b32831a6307361ed959903e76 2021-02-09 14:14:53   \n",
       "9812593  f54e0b6b32831a6307361ed959903e76 2021-02-09 17:18:39   \n",
       "\n",
       "                           account_number                           user_id  \\\n",
       "9812494  22ae1905e262fc5b1a5776b91de24f7c  78a39cf3c10ccf6dd6175208a79f8b98   \n",
       "9812495  22ae1905e262fc5b1a5776b91de24f7c  78a39cf3c10ccf6dd6175208a79f8b98   \n",
       "9812496  22ae1905e262fc5b1a5776b91de24f7c  78a39cf3c10ccf6dd6175208a79f8b98   \n",
       "9812497  22ae1905e262fc5b1a5776b91de24f7c  78a39cf3c10ccf6dd6175208a79f8b98   \n",
       "9812498  22ae1905e262fc5b1a5776b91de24f7c  78a39cf3c10ccf6dd6175208a79f8b98   \n",
       "...                                   ...                               ...   \n",
       "9812589  22ae1905e262fc5b1a5776b91de24f7c  78a39cf3c10ccf6dd6175208a79f8b98   \n",
       "9812590  22ae1905e262fc5b1a5776b91de24f7c  78a39cf3c10ccf6dd6175208a79f8b98   \n",
       "9812591  22ae1905e262fc5b1a5776b91de24f7c  78a39cf3c10ccf6dd6175208a79f8b98   \n",
       "9812592  22ae1905e262fc5b1a5776b91de24f7c  78a39cf3c10ccf6dd6175208a79f8b98   \n",
       "9812593  22ae1905e262fc5b1a5776b91de24f7c  78a39cf3c10ccf6dd6175208a79f8b98   \n",
       "\n",
       "         transaction_amount transaction_type      fecha  \n",
       "9812494               5.946           DEBITO 2021-02-09  \n",
       "9812495               5.946           DEBITO 2021-02-09  \n",
       "9812496               5.944           DEBITO 2021-02-09  \n",
       "9812497               5.944           DEBITO 2021-02-09  \n",
       "9812498               5.946           DEBITO 2021-02-09  \n",
       "...                     ...              ...        ...  \n",
       "9812589               5.946           DEBITO 2021-02-09  \n",
       "9812590               5.946           DEBITO 2021-02-09  \n",
       "9812591               5.944           DEBITO 2021-02-09  \n",
       "9812592               5.944           DEBITO 2021-02-09  \n",
       "9812593               5.946           DEBITO 2021-02-09  \n",
       "\n",
       "[100 rows x 9 columns]"
      ]
     },
     "execution_count": 15,
     "metadata": {},
     "output_type": "execute_result"
    }
   ],
   "source": [
    "datos_reales[(datos_reales['account_number']==\"22ae1905e262fc5b1a5776b91de24f7c\") & (datos_reales['fecha']==\"2021-02-09\") & \n",
    "             (datos_reales['transaction_type']==\"DEBITO\")]"
   ]
  },
  {
   "cell_type": "markdown",
   "id": "048f4491",
   "metadata": {},
   "source": [
    "La consulta anterior muestra un ejemplo en donde una cuenta realizo 100 transacciones debito el mismo dia, en donde 48 transacciones fueron por el monto de 5.944 y el resto por el monto de 5.946, en conjunto las transacciones suman un total de 594.507.\n",
    "\n",
    "2. Con los valores de cantidad definidos en el punto anterior como rango minimo para revisar transacciones, se analizara los valores totales"
   ]
  },
  {
   "cell_type": "code",
   "execution_count": 16,
   "id": "26c7dec5",
   "metadata": {},
   "outputs": [
    {
     "data": {
      "text/plain": [
       "Text(0.5, 1.0, 'Valor Trx por Cuenta y Dia (Debito)')"
      ]
     },
     "execution_count": 16,
     "metadata": {},
     "output_type": "execute_result"
    },
    {
     "data": {
      "image/png": "[encoded data removed]",
      "text/plain": [
       "<Figure size 720x576 with 2 Axes>"
      ]
     },
     "metadata": {
      "needs_background": "light"
     },
     "output_type": "display_data"
    }
   ],
   "source": [
    "plt.figure(figsize=(10,8))\n",
    "\n",
    "plt.subplot(1,2,1)\n",
    "boxplot = base_credito.boxplot(column=['Valor'])\n",
    "plt.title(\"Valor Trx por Cuenta y Dia (Credito)\")\n",
    "plt.subplot(1,2,2)\n",
    "boxplot = base_debito.boxplot(column=['Valor'])\n",
    "plt.title(\"Valor Trx por Cuenta y Dia (Debito)\")"
   ]
  },
  {
   "cell_type": "code",
   "execution_count": 17,
   "id": "e4d91e68",
   "metadata": {},
   "outputs": [
    {
     "data": {
      "text/plain": [
       "count   1825.000\n",
       "mean     459.148\n",
       "std      222.391\n",
       "min      231.834\n",
       "25%      309.112\n",
       "50%      407.368\n",
       "75%      551.844\n",
       "max     2436.750\n",
       "Name: Valor, dtype: float64"
      ]
     },
     "execution_count": 17,
     "metadata": {},
     "output_type": "execute_result"
    }
   ],
   "source": [
    "base_credito['Valor'].describe()"
   ]
  },
  {
   "cell_type": "code",
   "execution_count": 18,
   "id": "a78be84a",
   "metadata": {},
   "outputs": [
    {
     "data": {
      "text/plain": [
       "count   13742.000\n",
       "mean     1682.193\n",
       "std      1466.074\n",
       "min        29.722\n",
       "25%       232.065\n",
       "50%      1177.002\n",
       "75%      3210.006\n",
       "max     12345.903\n",
       "Name: Valor, dtype: float64"
      ]
     },
     "execution_count": 18,
     "metadata": {},
     "output_type": "execute_result"
    }
   ],
   "source": [
    "base_debito['Valor'].describe()"
   ]
  },
  {
   "cell_type": "markdown",
   "id": "42b62509",
   "metadata": {},
   "source": [
    "Para las transacciones de tipo debito el valor minimo es de 29.72, es decir que se realizaron mas de 5 transacciones pero el valor total no es alto, lo anterior nos lleva a tener en cuenta un valor total superior a cierto monto, que para este caso se definira en el cuartil 1, quedando para las transacciones de tipo debito 232.06 y para las transacciones de tipo credito 309.11. "
   ]
  },
  {
   "cell_type": "code",
   "execution_count": 19,
   "id": "7cbd31bb",
   "metadata": {},
   "outputs": [],
   "source": [
    "base_credito=base_credito[base_credito['Valor']>=309.11]\n",
    "base_debito=base_debito[base_debito['Valor']>=232.06]"
   ]
  },
  {
   "cell_type": "code",
   "execution_count": 20,
   "id": "aa8ea70b",
   "metadata": {},
   "outputs": [
    {
     "name": "stdout",
     "output_type": "stream",
     "text": [
      "Cuentas a Revisar por Dia (Credito)\n",
      "Minimo: 1\n",
      "Media: 28.1\n",
      "Maximo: 73\n",
      "-----------------------------------\n",
      "Cuentas a Revisar por Dia (Debito)\n",
      "Minimo: 1\n",
      "Media: 30.9\n",
      "Maximo: 175\n"
     ]
    }
   ],
   "source": [
    "print('Cuentas a Revisar por Dia (Credito)')\n",
    "print('Minimo:',base_credito.groupby('fecha')['account_number'].count().reset_index()['account_number'].min())\n",
    "print('Media:',round(base_credito.groupby('fecha')['account_number'].count().reset_index()['account_number'].mean(),1))\n",
    "print('Maximo:',base_credito.groupby('fecha')['account_number'].count().reset_index()['account_number'].max())\n",
    "print('-----------------------------------')\n",
    "print('Cuentas a Revisar por Dia (Debito)')\n",
    "print('Minimo:',base_debito.groupby('fecha')['account_number'].count().reset_index()['account_number'].min())\n",
    "print('Media:',round(base_debito.groupby('fecha')['account_number'].count().reset_index()['account_number'].mean(),1))\n",
    "print('Maximo:',base_debito.groupby('fecha')['account_number'].count().reset_index()['account_number'].max())"
   ]
  },
  {
   "cell_type": "markdown",
   "id": "96992519",
   "metadata": {},
   "source": [
    "Con la nueva regla del monto, en promedio se deberian revisar 28 cuentas de transacciones tipo credito y 30 cuentas de transacciones tipo debito, a lo mucho en un dia se revisaria un total de 248 cuentas teniendo los valores maximos en ambos tipos de transacciones."
   ]
  },
  {
   "cell_type": "markdown",
   "id": "77cbefb5",
   "metadata": {},
   "source": [
    "# Despliegue"
   ]
  },
  {
   "cell_type": "markdown",
   "id": "eed2a021",
   "metadata": {},
   "source": [
    "Se recomienda realizar la revision de las transacciones todos los dias, teniendo en cuenta las transacciones del dia anterior, de esta manera se es oportuno en las validaciones y el volumen de informacion a manejar no es tan alto.\n",
    "\n",
    "Por otro lado es necesario que los parametros definidos se ajusten de manera mensual, lo anterior con el fin de garantizar una adecuada gestion de la mala practica transaccional.\n",
    "\n",
    "Si se maneja el mismo esquema de datos el procedimiento seria el siguiente:"
   ]
  },
  {
   "cell_type": "code",
   "execution_count": 21,
   "id": "b28ba8d7",
   "metadata": {},
   "outputs": [],
   "source": [
    "datos_sinteticos=pd.read_parquet('sample_data_0007_part_00.parquet', engine='pyarrow')\n",
    "\n",
    "datos_sinteticos['transaction_amount'] = datos_sinteticos['transaction_amount'].astype('float64')\n",
    "datos_sinteticos['fecha'] = pd.to_datetime(datos_sinteticos['transaction_date']).dt.date\n",
    "datos_sinteticos['fecha'] = pd.to_datetime(datos_sinteticos['fecha'], format='%Y/%m/%d')"
   ]
  },
  {
   "cell_type": "code",
   "execution_count": 22,
   "id": "aca3eb2a",
   "metadata": {},
   "outputs": [],
   "source": [
    "# Parametros (la cantidad y valores se deberia ajustar mensualmente)\n",
    "\n",
    "datos=datos_sinteticos # Se define la base de datos\n",
    "fecha_analisis=\"2021-02-09\" # Se define la fecha de analisis\n",
    "cant_deb=5 \n",
    "cant_cre=39\n",
    "valor_cre=309.11\n",
    "valor_deb=232.06"
   ]
  },
  {
   "cell_type": "code",
   "execution_count": 23,
   "id": "5cfc469b",
   "metadata": {},
   "outputs": [
    {
     "name": "stdout",
     "output_type": "stream",
     "text": [
      "Cuentas para revisar: 214\n",
      "Cuenta con mayor numero de transacciones Credito ( 100 ) y Valor Total ( 2033.00361363 ): 5529a049dc12e545de536321d5d5b6db\n",
      "Cuenta con mayor numero de transacciones Debito ( 100 ) y Valor Total ( 1283.40783666 ): df88bc1ea83856d0765974f0dbd6cba7\n"
     ]
    }
   ],
   "source": [
    "# Codigo para identificar cuales cuentas se deben revisar, al final arroja un resumen\n",
    "\n",
    "base=datos.groupby([\"account_number\",\"transaction_type\",\"fecha\"]).agg(\n",
    "    {'_id':'count','transaction_amount':'sum'}).reset_index()\n",
    "base = base.rename(columns={'_id':'Cantidad','transaction_amount':'Valor'})\n",
    "base_credito=base[(base['transaction_type']=='CREDITO') & (base['Cantidad']>=cant_cre) & (base['Valor']>=valor_cre) & (base['fecha']==fecha_analisis)]\n",
    "base_debito=base[(base['transaction_type']=='DEBITO') & (base['Cantidad']>=cant_deb) & (base['Valor']>=valor_deb) & (base['fecha']==fecha_analisis)]\n",
    "\n",
    "print(\"Cuentas para revisar:\",len(base_credito['account_number'].unique())+len(base_debito['account_number'].unique()))\n",
    "\n",
    "print(\"Cuenta con mayor numero de transacciones Credito (\",\n",
    "      base_credito.sort_values(by=[\"Cantidad\",\"Valor\"],ascending=False).iloc[0,3],\n",
    "      \") y Valor Total (\",\n",
    "      base_credito.sort_values(by=[\"Cantidad\",\"Valor\"],ascending=False).iloc[0,4],\"):\",\n",
    "      base_credito.sort_values(by=[\"Cantidad\",\"Valor\"],ascending=False).iloc[0,0])\n",
    "\n",
    "print(\"Cuenta con mayor numero de transacciones Debito (\",\n",
    "      base_debito.sort_values(by=[\"Cantidad\",\"Valor\"],ascending=False).iloc[0,3],\n",
    "      \") y Valor Total (\",\n",
    "      base_debito.sort_values(by=[\"Cantidad\",\"Valor\"],ascending=False).iloc[0,4],\"):\",\n",
    "      base_debito.sort_values(by=[\"Cantidad\",\"Valor\"],ascending=False).iloc[0,0])\n",
    "\n",
    "base_final=pd.concat([base_credito,base_debito], axis=0)\n",
    "del base_credito, base_debito, base"
   ]
  },
  {
   "cell_type": "markdown",
   "id": "65cb317e",
   "metadata": {},
   "source": [
    "Con el anterior codigo se obtiene la informacion a revisar y es de facil ajuste."
   ]
  }
 ],
 "metadata": {
  "kernelspec": {
   "display_name": "Python 3 (ipykernel)",
   "language": "python",
   "name": "python3"
  },
  "language_info": {
   "codemirror_mode": {
    "name": "ipython",
    "version": 3
   },
   "file_extension": ".py",
   "mimetype": "text/x-python",
   "name": "python",
   "nbconvert_exporter": "python",
   "pygments_lexer": "ipython3",
   "version": "3.9.12"
  }
 },
 "nbformat": 4,
 "nbformat_minor": 5
}
